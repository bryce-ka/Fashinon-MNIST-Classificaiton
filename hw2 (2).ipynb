{
 "cells": [
  {
   "cell_type": "code",
   "execution_count": 1,
   "id": "16c042bb-465f-4fcb-b009-fd4ad773e772",
   "metadata": {},
   "outputs": [],
   "source": [
    "import pandas as pd"
   ]
  },
  {
   "cell_type": "code",
   "execution_count": 2,
   "id": "09754560-ab88-4139-a027-e513a4375278",
   "metadata": {},
   "outputs": [],
   "source": [
    "import gzip\n",
    "import numpy as np\n",
    "import matplotlib.pyplot as plt\n",
    "from sklearn.preprocessing import OneHotEncoder\n",
    "\n",
    "def load_fashion_mnist():\n",
    "    \"\"\"\n",
    "    Loads Fashion MNIST dataset.\n",
    "    \n",
    "    Adapted from: https://github.com/zalandoresearch/fashion-mnist/blob/master/utils/mnist_reader.py\n",
    "    \"\"\"\n",
    "    TRAIN_IMAGES = 'train-images-idx3-ubyte.gz'\n",
    "    TRAIN_LABELS = 'train-labels-idx1-ubyte.gz'    \n",
    "    TEST_IMAGES = 't10k-images-idx3-ubyte.gz'\n",
    "    TEST_LABELS = 't10k-labels-idx1-ubyte.gz'\n",
    "\n",
    "    with gzip.open(TRAIN_LABELS, 'rb') as tr_labels_file, gzip.open(TEST_LABELS, 'rb') as ts_labels_file:\n",
    "        train_labels = np.frombuffer(tr_labels_file.read(), dtype=np.uint8, offset=8)\n",
    "        test_labels = np.frombuffer(ts_labels_file.read(), dtype=np.uint8, offset=8)\n",
    "        train_labels = train_labels.reshape(-1, 1)\n",
    "        test_labels = test_labels.reshape(-1, 1)\n",
    "       \n",
    "    with gzip.open(TRAIN_IMAGES, 'rb') as tr_images_file, gzip.open(TEST_IMAGES, 'rb') as ts_images_file:\n",
    "        train_images = np.frombuffer(tr_images_file.read(), dtype=np.uint8, offset=16).reshape(len(train_labels), 784)\n",
    "        test_images = np.frombuffer(ts_images_file.read(), dtype=np.uint8, offset=16).reshape(len(test_labels), 784)\n",
    "\n",
    "    return train_images, train_labels, test_images, test_labels\n",
    "\n",
    "def oh_load_fashion_mnist():\n",
    "    \"\"\"\n",
    "    Loads Fashion MNIST dataset.\n",
    "    \n",
    "    Adapted from: https://github.com/zalandoresearch/fashion-mnist/blob/master/utils/mnist_reader.py\n",
    "    \"\"\"\n",
    "    TRAIN_IMAGES = 'train-images-idx3-ubyte.gz'\n",
    "    TRAIN_LABELS = 'train-labels-idx1-ubyte.gz'    \n",
    "    TEST_IMAGES = 't10k-images-idx3-ubyte.gz'\n",
    "    TEST_LABELS = 't10k-labels-idx1-ubyte.gz'\n",
    "\n",
    "    with gzip.open(TRAIN_LABELS, 'rb') as tr_labels_file, gzip.open(TEST_LABELS, 'rb') as ts_labels_file:\n",
    "        train_labels = np.frombuffer(tr_labels_file.read(), dtype=np.uint8, offset=8)\n",
    "        test_labels = np.frombuffer(ts_labels_file.read(), dtype=np.uint8, offset=8)\n",
    "        train_labels = train_labels.reshape(-1, 1)\n",
    "        test_labels = test_labels.reshape(-1, 1)\n",
    "        OH_train = OneHotEncoder().fit_transform(train_labels).toarray()\n",
    "        OH_test = OneHotEncoder().fit_transform(test_labels).toarray()\n",
    "\n",
    "    with gzip.open(TRAIN_IMAGES, 'rb') as tr_images_file, gzip.open(TEST_IMAGES, 'rb') as ts_images_file:\n",
    "        train_images = np.frombuffer(tr_images_file.read(), dtype=np.uint8, offset=16).reshape(len(train_labels), 784)\n",
    "        test_images = np.frombuffer(ts_images_file.read(), dtype=np.uint8, offset=16).reshape(len(test_labels), 784)\n",
    "\n",
    "    return train_images, OH_train, test_images, OH_test"
   ]
  },
  {
   "cell_type": "code",
   "execution_count": 3,
   "id": "7d32b935-5dfb-4043-9edb-70f38d84d6c0",
   "metadata": {},
   "outputs": [],
   "source": [
    "def pretty_print(image_example):\n",
    "    \"\"\" Pretty prints a Fashion MNIST example.\n",
    "\n",
    "    Parameters:\n",
    "        image_example: a 1x784 numpy array corresponding to the features of\n",
    "                       a single image.\n",
    "\n",
    "    Returns:\n",
    "        None.\n",
    "    \"\"\"\n",
    "    print(np.array_str(image_example, precision=1, max_line_width=116))"
   ]
  },
  {
   "cell_type": "code",
   "execution_count": 4,
   "id": "a65a447e-fab1-47b3-b503-fd43dd72b61d",
   "metadata": {},
   "outputs": [
    {
     "data": {
      "image/png": "[encoded data removed]",
      "text/plain": [
       "<Figure size 432x288 with 1 Axes>"
      ]
     },
     "metadata": {
      "needs_background": "light"
     },
     "output_type": "display_data"
    }
   ],
   "source": [
    "train_images, train_labels, test_images, test_labels = load_fashion_mnist()\n",
    "def plot_bar(y, loc='left', relative=True):\n",
    "    width = 0.35\n",
    "    if loc == 'left':\n",
    "        n = -0.5\n",
    "    elif loc == 'right':\n",
    "        n = 0.5\n",
    "     \n",
    "    # calculate counts per type and sort, to ensure their order\n",
    "    unique, counts = np.unique(y, return_counts=True)\n",
    "    sorted_index = np.argsort(unique)\n",
    "    unique = unique[sorted_index]\n",
    "     \n",
    "    if relative:\n",
    "        # plot as a percentage\n",
    "        counts = 100*counts[sorted_index]/len(y)\n",
    "        ylabel_text = ' train/test percentage of observations'\n",
    "    else:\n",
    "        # plot counts\n",
    "        counts = counts[sorted_index]\n",
    "        ylabel_text = 'count'\n",
    "         \n",
    "    xtemp = np.arange(len(unique))\n",
    "     \n",
    "    plt.bar(xtemp + n*width, counts, align='center', alpha=.7, width=width)\n",
    "    plt.xticks(xtemp, unique)\n",
    "    plt.xlabel('clothing category')\n",
    "    plt.ylabel(ylabel_text)\n",
    " \n",
    "plt.suptitle('Clothing categories were balanced across the test and train datasets')\n",
    "plot_bar(train_labels, loc='left')\n",
    "plot_bar(test_labels, loc='right')\n",
    "plt.legend([\n",
    "    'train ({0} photos)'.format(len(train_labels)), \n",
    "    'test ({0} photos)'.format(len(test_labels))\n",
    "]);"
   ]
  },
  {
   "cell_type": "code",
   "execution_count": 5,
   "id": "b0bfd98b-f53b-43db-86af-0f29bcd3e051",
   "metadata": {},
   "outputs": [
    {
     "data": {
      "text/plain": [
       "array([6000, 6000, 6000, 6000, 6000, 6000, 6000, 6000, 6000, 6000])"
      ]
     },
     "execution_count": 5,
     "metadata": {},
     "output_type": "execute_result"
    }
   ],
   "source": [
    "# dummy model \n",
    "unique, counts = np.unique(train_labels, return_counts=True)\n",
    "counts # 6k for each category, 10 categories - 6k/60k for any category chosen "
   ]
  },
  {
   "cell_type": "markdown",
   "id": "2c408725-9c61-4962-97d1-6777cc5cccc0",
   "metadata": {},
   "source": [
    "## Dummy Model Results\n",
    "\n",
    "the data in the test and train sets was evenly distributed across the 10 categories present in the data yielding a dummy accuracy of 10% as it would guess the same clothing category for each sample of data it was provided.\n"
   ]
  },
  {
   "cell_type": "markdown",
   "id": "cec80d93-e604-40ab-8382-5f455aac8f1d",
   "metadata": {},
   "source": [
    "## Our model- creation "
   ]
  },
  {
   "cell_type": "code",
   "execution_count": 12,
   "id": "b30b77ee-a245-48d4-b255-2a37ce44a3bb",
   "metadata": {},
   "outputs": [],
   "source": [
    "# leave one out cross validation \n",
    "from sklearn.model_selection import StratifiedKFold\n",
    "# from sklearn.metrics import mean_squared_error\n",
    "\n",
    "# skf = StratifiedKFold(n_splits=5, shuffle=True, random_state=47)\n",
    "# skf.get_n_splits(None, None)\n",
    "# train_images, train_labels, final_test_images, final_test_labels = load_fashion_mnist()\n",
    "\n",
    "\n",
    "\n",
    "# # cols = {'actual': [], 'predictions': []}\n",
    "# # error = pd.DataFrame(data=cols)\n",
    "\n",
    "\n",
    "# for i, (train_index, test_index) in enumerate(skf.split(train_images, train_labels)):\n",
    "#     print(f\"Fold {i}:\")\n",
    "#     print(f\"  Train: index={train_index}\")\n",
    "#     print(f\"  Test:  index={test_index}\")\n",
    "# #     clf.fit(train_images, train_labels)\n",
    "#     predicted = clf.predict(test_images)\n",
    " \n",
    "#     idx_1 = 0\n",
    "#     for idx_0 in test_labels:\n",
    "#         error.loc[len(error.index)] = [test_labels[idx_0], predicted[idx_1]]\n",
    "#         idx_1+=1\n",
    "    \n",
    "# mse = mean_squared_error(error['actual'], error['predictions'])\n",
    "    \n",
    "    \n",
    "    \n",
    "#https://scikit-learn.org/stable/modules/generated/sklearn.model_selection.StratifiedKFold.html#sklearn.model_selection.StratifiedKFold.get_n_splits"
   ]
  },
  {
   "cell_type": "markdown",
   "id": "ac2fb3e3-1933-48e1-8093-be13317ba9cb",
   "metadata": {},
   "source": [
    "#### first attempt \n",
    "\n",
    "\n"
   ]
  },
  {
   "cell_type": "code",
   "execution_count": 10,
   "id": "920ee125-35c0-4d21-b48e-40d83d6411bb",
   "metadata": {},
   "outputs": [
    {
     "name": "stdout",
     "output_type": "stream",
     "text": [
      "KNN score: 0.837583\n"
     ]
    }
   ],
   "source": [
    "# based on sci-kit learn example \n",
    "        #https://scikit-learn.org/stable/auto_examples/exercises/plot_digits_classification_exercise.html\n",
    "\n",
    "train_images, train_labels, test_images, test_labels = oh_load_fashion_mnist()\n",
    "    \n",
    "from sklearn import datasets, svm, metrics\n",
    "clf = svm.SVC() #https://scikit-learn.org/stable/modules/generated/sklearn.svm.SVC.html\n",
    "\n",
    "# single test train split\n",
    "from sklearn.model_selection import train_test_split\n",
    "\n",
    "# create a test and train dataset for base clf model #1 split, auto hyper parameters\n",
    "X_train, X_test, y_train, y_test = train_test_split(train_images, train_labels, test_size=0.20, random_state=42)\n",
    "\n",
    "from sklearn import datasets, neighbors, linear_model\n",
    "\n",
    "knn = neighbors.KNeighborsClassifier()\n",
    "logistic = linear_model.LogisticRegression(max_iter=1000)\n",
    "\n",
    "print(\"KNN score: %f\" % knn.fit(X_train, y_train).score(X_test, y_test))"
   ]
  },
  {
   "cell_type": "code",
   "execution_count": 13,
   "id": "8faf97ee-0b80-4247-9329-98924392ec71",
   "metadata": {},
   "outputs": [
    {
     "name": "stdout",
     "output_type": "stream",
     "text": [
      "Fold 0:\n",
      "  Train: index=[    0     1     3 ... 59994 59996 59997] 48000\n",
      "  Test:  index=[    2     5     7 ... 59995 59998 59999] 12000\n"
     ]
    },
    {
     "name": "stderr",
     "output_type": "stream",
     "text": [
      "/tmp/ipykernel_492549/3668790194.py:39: DataConversionWarning: A column-vector y was passed when a 1d array was expected. Please change the shape of y to (n_samples,), for example using ravel().\n",
      "  rf.fit(subset_traini ,subset_trainl)\n"
     ]
    },
    {
     "name": "stdout",
     "output_type": "stream",
     "text": [
      "Fold 1:\n",
      "  Train: index=[    0     1     2 ... 59997 59998 59999] 48000\n",
      "  Test:  index=[    4     6     8 ... 59988 59989 59993] 12000\n"
     ]
    },
    {
     "name": "stderr",
     "output_type": "stream",
     "text": [
      "/tmp/ipykernel_492549/3668790194.py:39: DataConversionWarning: A column-vector y was passed when a 1d array was expected. Please change the shape of y to (n_samples,), for example using ravel().\n",
      "  rf.fit(subset_traini ,subset_trainl)\n",
      "/opt/pub/eb/apps/all/DavidsonJupyter/2021-common-GCCcore-10.2.0/lib/python3.8/site-packages/sklearn/ensemble/_forest.py:455: UserWarning: Warm-start fitting without increasing n_estimators does not fit new trees.\n",
      "  warn(\n"
     ]
    },
    {
     "name": "stdout",
     "output_type": "stream",
     "text": [
      "Fold 2:\n",
      "  Train: index=[    0     1     2 ... 59997 59998 59999] 48000\n",
      "  Test:  index=[   11    13    20 ... 59972 59983 59996] 12000\n"
     ]
    },
    {
     "name": "stderr",
     "output_type": "stream",
     "text": [
      "/tmp/ipykernel_492549/3668790194.py:39: DataConversionWarning: A column-vector y was passed when a 1d array was expected. Please change the shape of y to (n_samples,), for example using ravel().\n",
      "  rf.fit(subset_traini ,subset_trainl)\n",
      "/opt/pub/eb/apps/all/DavidsonJupyter/2021-common-GCCcore-10.2.0/lib/python3.8/site-packages/sklearn/ensemble/_forest.py:455: UserWarning: Warm-start fitting without increasing n_estimators does not fit new trees.\n",
      "  warn(\n"
     ]
    },
    {
     "name": "stdout",
     "output_type": "stream",
     "text": [
      "Fold 3:\n",
      "  Train: index=[    2     3     4 ... 59996 59998 59999] 48000\n",
      "  Test:  index=[    0     1    12 ... 59987 59990 59997] 12000\n"
     ]
    },
    {
     "name": "stderr",
     "output_type": "stream",
     "text": [
      "/tmp/ipykernel_492549/3668790194.py:39: DataConversionWarning: A column-vector y was passed when a 1d array was expected. Please change the shape of y to (n_samples,), for example using ravel().\n",
      "  rf.fit(subset_traini ,subset_trainl)\n",
      "/opt/pub/eb/apps/all/DavidsonJupyter/2021-common-GCCcore-10.2.0/lib/python3.8/site-packages/sklearn/ensemble/_forest.py:455: UserWarning: Warm-start fitting without increasing n_estimators does not fit new trees.\n",
      "  warn(\n"
     ]
    },
    {
     "name": "stdout",
     "output_type": "stream",
     "text": [
      "Fold 4:\n",
      "  Train: index=[    0     1     2 ... 59997 59998 59999] 48000\n",
      "  Test:  index=[    3    14    18 ... 59985 59986 59994] 12000\n"
     ]
    },
    {
     "name": "stderr",
     "output_type": "stream",
     "text": [
      "/tmp/ipykernel_492549/3668790194.py:39: DataConversionWarning: A column-vector y was passed when a 1d array was expected. Please change the shape of y to (n_samples,), for example using ravel().\n",
      "  rf.fit(subset_traini ,subset_trainl)\n",
      "/opt/pub/eb/apps/all/DavidsonJupyter/2021-common-GCCcore-10.2.0/lib/python3.8/site-packages/sklearn/ensemble/_forest.py:455: UserWarning: Warm-start fitting without increasing n_estimators does not fit new trees.\n",
      "  warn(\n"
     ]
    },
    {
     "data": {
      "text/plain": [
       "0.976950384160264"
      ]
     },
     "execution_count": 13,
     "metadata": {},
     "output_type": "execute_result"
    }
   ],
   "source": [
    "# using loocv and random forest classifier \n",
    "from sklearn.ensemble import RandomForestClassifier\n",
    "train_images, train_labels, final_test_images, final_test_labels = load_fashion_mnist()\n",
    "skf = StratifiedKFold(n_splits=5, shuffle=True, random_state=47)\n",
    "skf.get_n_splits(None, None)\n",
    "# train_images, train_labels, test_images, test_labels = load_fashion_mnist()\n",
    "\n",
    "flag= 0\n",
    "rf = RandomForestClassifier(warm_start=True,oob_score=True )\n",
    "\n",
    "for i, (train_index, test_index) in enumerate(skf.split(train_images, train_labels)):\n",
    "    print(f\"Fold {i}:\")\n",
    "    print(f\"  Train: index={train_index}\", len(train_index))\n",
    "    print(f\"  Test:  index={test_index}\",  len(test_index))\n",
    "    \n",
    "    \n",
    "    #train \n",
    "    subset_traini = [train_images[train_index[0]]]\n",
    "    subset_trainl = [train_labels[train_index[0]]]\n",
    "    for idx in train_index:\n",
    "        subset_traini = np.append(subset_traini, [train_images[idx]], axis = 0)\n",
    "        subset_trainl = np.append(subset_trainl, [train_labels[idx]], axis = 0)\n",
    "    \n",
    "    #test\n",
    "    if flag == 0:\n",
    "        test_image_all = [train_images[test_index[0]]]\n",
    "        test_label_all = [train_labels[test_index[0]]]\n",
    "        flag = 1\n",
    "    if flag == 1: \n",
    "        subset_testi = [train_images[test_index[0]]]\n",
    "        subset_testl = [train_labels[test_index[0]]]\n",
    "        for idx in test_index:\n",
    "            subset_testi = np.append(subset_testi, [train_images[idx]], axis = 0)\n",
    "            subset_testl = np.append(subset_testl, [train_labels[idx]], axis = 0)\n",
    "            test_image_all = np.append(test_image_all, [train_images[idx]], axis = 0)\n",
    "            test_label_all = np.append(test_label_all, [train_labels[idx]], axis = 0)\n",
    "        \n",
    "        #choose model \n",
    "        rf.fit(subset_traini ,subset_trainl)\n",
    "\n",
    "score = rf.score(test_image_all, test_label_all)\n",
    "score"
   ]
  },
  {
   "cell_type": "code",
   "execution_count": null,
   "id": "1e6bac17-91dd-408b-9c69-b9a84d0a52d6",
   "metadata": {},
   "outputs": [],
   "source": [
    "# using loocv \n",
    "train_images, train_labels, final_test_images, final_test_labels = load_fashion_mnist()\n",
    "skf = StratifiedKFold(n_splits=5, shuffle=True, random_state=47)\n",
    "skf.get_n_splits(None, None)\n",
    "# train_images, train_labels, test_images, test_labels = load_fashion_mnist()\n",
    "from sklearn import datasets, svm, metrics\n",
    "clf = svm.SVC() #https://scikit-learn.org/stable/modules/generated/sklearn.svm.SVC.html\n",
    "\n",
    "flag= 0\n",
    "\n",
    "for i, (train_index, test_index) in enumerate(skf.split(train_images, train_labels)):\n",
    "    print(f\"Fold {i}:\")\n",
    "    print(f\"  Train: index={train_index}\", len(train_index))\n",
    "    print(f\"  Test:  index={test_index}\",  len(test_index))\n",
    "    \n",
    "    \n",
    "    #train \n",
    "    subset_traini = [train_images[train_index[0]]]\n",
    "    subset_trainl = [train_labels[train_index[0]]]\n",
    "    for idx in train_index:\n",
    "        subset_traini = np.append(subset_traini, [train_images[idx]], axis = 0)\n",
    "        subset_trainl = np.append(subset_trainl, [train_labels[idx]], axis = 0)\n",
    "    \n",
    "    #test\n",
    "    if flag == 0:\n",
    "        test_image_all = [train_images[test_index[0]]]\n",
    "        test_label_all = [train_labels[test_index[0]]]\n",
    "        flag = 1\n",
    "    if flag == 1: \n",
    "        subset_testi = [train_images[test_index[0]]]\n",
    "        subset_testl = [train_labels[test_index[0]]]\n",
    "        for idx in test_index:\n",
    "            subset_testi = np.append(subset_testi, [train_images[idx]], axis = 0)\n",
    "            subset_testl = np.append(subset_testl, [train_labels[idx]], axis = 0)\n",
    "            test_image_all = np.append(test_image_all, [train_images[idx]], axis = 0)\n",
    "            test_label_all = np.append(test_label_all, [train_labels[idx]], axis = 0)\n",
    "        \n",
    "        knn = neighbors.KNeighborsClassifier()\n",
    "        # logistic = linear_model.LogisticRegression(max_iter=1000)\n",
    "\n",
    "        # print(\"KNN score: %f\" % knn.fit(subset_traini ,subset_trainl).score(subset_testi, subset_testl))\n",
    "        knn.fit(subset_traini ,subset_trainl)\n",
    "        \n",
    "\n",
    "score = knn.score(test_image_all, test_label_all)\n",
    "score #mean accuracy "
   ]
  },
  {
   "cell_type": "code",
   "execution_count": null,
   "id": "e24f88eb-1f3d-481b-9f5c-8993c954d93d",
   "metadata": {},
   "outputs": [],
   "source": [
    "# using loocv and random forest classifier \n",
    "from sklearn.ensemble import RandomForestClassifier\n",
    "train_images, train_labels, final_test_images, final_test_labels = load_fashion_mnist()\n",
    "skf = StratifiedKFold(n_splits=5, shuffle=True, random_state=47)\n",
    "skf.get_n_splits(None, None)\n",
    "# train_images, train_labels, test_images, test_labels = load_fashion_mnist()\n",
    "\n",
    "flag= 0\n",
    "clf = RandomForestClassifier(warm_start=True)\n",
    "\n",
    "for i, (train_index, test_index) in enumerate(skf.split(train_images, train_labels)):\n",
    "    print(f\"Fold {i}:\")\n",
    "    print(f\"  Train: index={train_index}\", len(train_index))\n",
    "    print(f\"  Test:  index={test_index}\",  len(test_index))\n",
    "    \n",
    "    \n",
    "    #train \n",
    "    subset_traini = [train_images[train_index[0]]]\n",
    "    subset_trainl = [train_labels[train_index[0]]]\n",
    "    for idx in train_index:\n",
    "        subset_traini = np.append(subset_traini, [train_images[idx]], axis = 0)\n",
    "        subset_trainl = np.append(subset_trainl, [train_labels[idx]], axis = 0)\n",
    "    \n",
    "    #test\n",
    "    if flag == 0:\n",
    "        test_image_all = [train_images[test_index[0]]]\n",
    "        test_label_all = [train_labels[test_index[0]]]\n",
    "        flag = 1\n",
    "    if flag == 1: \n",
    "        subset_testi = [train_images[test_index[0]]]\n",
    "        subset_testl = [train_labels[test_index[0]]]\n",
    "        for idx in test_index:\n",
    "            subset_testi = np.append(subset_testi, [train_images[idx]], axis = 0)\n",
    "            subset_testl = np.append(subset_testl, [train_labels[idx]], axis = 0)\n",
    "            test_image_all = np.append(test_image_all, [train_images[idx]], axis = 0)\n",
    "            test_label_all = np.append(test_label_all, [train_labels[idx]], axis = 0)\n",
    "        \n",
    "        #choose model \n",
    "        clf.fit(subset_traini ,subset_trainl)\n",
    "\n",
    "score = clf.score(test_image_all, test_label_all)\n",
    "score"
   ]
  },
  {
   "cell_type": "code",
   "execution_count": null,
   "id": "0deb4e11-a714-4041-aa29-7ed4c502f83d",
   "metadata": {},
   "outputs": [],
   "source": [
    "# using loocv and svc with rbf kernel \n",
    "from sklearn.svm import SVC\n",
    "train_images, train_labels, final_test_images, final_test_labels = load_fashion_mnist()\n",
    "skf = StratifiedKFold(n_splits=5, shuffle=True, random_state=47)\n",
    "skf.get_n_splits(None, None)\n",
    "# train_images, train_labels, test_images, test_labels = load_fashion_mnist()\n",
    "\n",
    "flag= 0\n",
    "\n",
    "def RBF(X, gamma):\n",
    "    if gamma == None:\n",
    "        gamma  =1.0/X.shape[1]\n",
    "    K = np.exp(-gamma * np.sum((X-X[:, np.newaxis])**2, axis = -1))\n",
    "    \n",
    "    return K\n",
    "\n",
    "X= RBF(subset_traini, gamma = None)\n",
    "\n",
    "clf = svm.SVC(kernel=\"linear\")\n",
    "\n",
    "for i, (train_index, test_index) in enumerate(skf.split(train_images, train_labels)):\n",
    "    print(f\"Fold {i}:\")\n",
    "    print(f\"  Train: index={train_index}\", len(train_index))\n",
    "    print(f\"  Test:  index={test_index}\",  len(test_index))\n",
    "    \n",
    "    \n",
    "    #train \n",
    "    subset_traini = [train_images[train_index[0]]]\n",
    "    subset_trainl = [train_labels[train_index[0]]]\n",
    "    for idx in train_index:\n",
    "        subset_traini = np.append(subset_traini, [train_images[idx]], axis = 0)\n",
    "        subset_trainl = np.append(subset_trainl, [train_labels[idx]], axis = 0)\n",
    "    \n",
    "    #test\n",
    "    if flag == 0:\n",
    "        test_image_all = [train_images[test_index[0]]]\n",
    "        test_label_all = [train_labels[test_index[0]]]\n",
    "        flag = 1\n",
    "    if flag == 1: \n",
    "        subset_testi = [train_images[test_index[0]]]\n",
    "        subset_testl = [train_labels[test_index[0]]]\n",
    "        for idx in test_index:\n",
    "            subset_testi = np.append(subset_testi, [train_images[idx]], axis = 0)\n",
    "            subset_testl = np.append(subset_testl, [train_labels[idx]], axis = 0)\n",
    "            test_image_all = np.append(test_image_all, [train_images[idx]], axis = 0)\n",
    "            test_label_all = np.append(test_label_all, [train_labels[idx]], axis = 0)\n",
    "        \n",
    "        #choose model \n",
    "        clf.fit(subset_traini ,subset_trainl)\n",
    "\n",
    "score = clf.score(test_image_all, test_label_all)\n",
    "score"
   ]
  },
  {
   "cell_type": "code",
   "execution_count": null,
   "id": "435d1a0e-b214-4385-8de1-a26096ef40e8",
   "metadata": {},
   "outputs": [],
   "source": [
    "# using loocv and svc with linear kernel\n",
    "from sklearn.svm import SVC\n",
    "train_images, train_labels, final_test_images, final_test_labels = load_fashion_mnist()\n",
    "skf = StratifiedKFold(n_splits=5, shuffle=True, random_state=47)\n",
    "skf.get_n_splits(None, None)\n",
    "# train_images, train_labels, test_images, test_labels = load_fashion_mnist()\n",
    "\n",
    "flag= 0\n",
    "\n",
    "\n",
    "clf = svm.SVC(kernel=\"linear\")\n",
    "\n",
    "for i, (train_index, test_index) in enumerate(skf.split(train_images, train_labels)):\n",
    "    print(f\"Fold {i}:\")\n",
    "    print(f\"  Train: index={train_index}\", len(train_index))\n",
    "    print(f\"  Test:  index={test_index}\",  len(test_index))\n",
    "    \n",
    "    \n",
    "    #train \n",
    "    subset_traini = [train_images[train_index[0]]]\n",
    "    subset_trainl = [train_labels[train_index[0]]]\n",
    "    for idx in train_index:\n",
    "        subset_traini = np.append(subset_traini, [train_images[idx]], axis = 0)\n",
    "        subset_trainl = np.append(subset_trainl, [train_labels[idx]], axis = 0)\n",
    "    \n",
    "    #test\n",
    "    if flag == 0:\n",
    "        test_image_all = [train_images[test_index[0]]]\n",
    "        test_label_all = [train_labels[test_index[0]]]\n",
    "        flag = 1\n",
    "    if flag == 1: \n",
    "        subset_testi = [train_images[test_index[0]]]\n",
    "        subset_testl = [train_labels[test_index[0]]]\n",
    "        for idx in test_index:\n",
    "            subset_testi = np.append(subset_testi, [train_images[idx]], axis = 0)\n",
    "            subset_testl = np.append(subset_testl, [train_labels[idx]], axis = 0)\n",
    "            test_image_all = np.append(test_image_all, [train_images[idx]], axis = 0)\n",
    "            test_label_all = np.append(test_label_all, [train_labels[idx]], axis = 0)\n",
    "        \n",
    "        #choose model \n",
    "        clf.fit(subset_traini ,subset_trainl)\n",
    "\n",
    "score = clf.score(test_image_all, test_label_all)\n",
    "score"
   ]
  },
  {
   "cell_type": "code",
   "execution_count": null,
   "id": "11a703d0-ee97-4cca-ac1a-13f0c49ead64",
   "metadata": {},
   "outputs": [],
   "source": [
    "results graph and distribution of data\n",
    "https://www.researchgate.net/profile/Greeshma-K-V/publication/332035279_Fashion-MNIST_classification_based_on_HOG_feature_descriptor_using_SVM/links/5d1256c4458515c11cf880fe/Fashion-MNIST-classification-based-on-HOG-feature-descriptor-using-SVM.pdf"
   ]
  }
 ],
 "metadata": {
  "kernelspec": {
   "display_name": "Python 3.8",
   "language": "python",
   "name": "python3"
  },
  "language_info": {
   "codemirror_mode": {
    "name": "ipython",
    "version": 3
   },
   "file_extension": ".py",
   "mimetype": "text/x-python",
   "name": "python",
   "nbconvert_exporter": "python",
   "pygments_lexer": "ipython3",
   "version": "3.8.6"
  }
 },
 "nbformat": 4,
 "nbformat_minor": 5
}
